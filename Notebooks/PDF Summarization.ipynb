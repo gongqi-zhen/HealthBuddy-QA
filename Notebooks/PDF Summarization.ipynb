{
 "cells": [
  {
   "cell_type": "markdown",
   "id": "656bd8ee-6b9c-43e9-8fe9-a7c0908946a1",
   "metadata": {},
   "source": [
    "# LangChain と Gemini API で PDF ドキュメントの要約を行う例"
   ]
  },
  {
   "cell_type": "markdown",
   "id": "98173ce1-e71d-4ff7-ab85-36c021e41507",
   "metadata": {},
   "source": [
    "LangChain のパッケージ、および、PDF の扱いに必要なパッケージをインストールします。"
   ]
  },
  {
   "cell_type": "code",
   "execution_count": null,
   "id": "0da8d06b-585b-41bf-a7e3-b06c2b9ad2b8",
   "metadata": {
    "tags": []
   },
   "outputs": [],
   "source": [
    "!pip install --user \\\n",
    "  langchain==0.1.0 transformers==4.36.0 \\\n",
    "  pypdf==3.17.0 cryptography==42.0.4 \\\n",
    "  langchain-google-vertexai==0.0.6 \\\n",
    "  google-cloud-aiplatform==1.42.1"
   ]
  },
  {
   "cell_type": "markdown",
   "id": "828fe076-aae2-4975-8d71-370907a8fb30",
   "metadata": {},
   "source": [
    "**注意：次のセルを実行する前にカーネルをリスタートしてください。**"
   ]
  },
  {
   "cell_type": "code",
   "execution_count": null,
   "id": "006c6fa6-68ab-4b0e-a826-ab7c65da3a4a",
   "metadata": {},
   "outputs": [],
   "source": [
    "import IPython\n",
    "app = IPython.Application.instance()\n",
    "_ = app.kernel.do_shutdown(True)"
   ]
  },
  {
   "cell_type": "markdown",
   "id": "4f535703-182c-41ae-b444-ab7d616cd1ec",
   "metadata": {},
   "source": [
    "日本人間ドック・予防医療学会 が一般公開している「[検査表の見方](https://www.ningen-dock.jp/public_method/)」をダウンロードします。"
   ]
  },
  {
   "cell_type": "code",
   "execution_count": null,
   "id": "20658657-62b0-499c-ba1c-8035e2641a53",
   "metadata": {
    "tags": []
   },
   "outputs": [],
   "source": [
    "base_url = 'https://raw.githubusercontent.com/gongqi-zhen/HealthBuddy-QA/main'\n",
    "!wget -q $base_url/PDF/Japan_Society_of_Ningen_Dock_and_Preventive_Medical_Care/shoken-mikata.pdf"
   ]
  },
  {
   "cell_type": "markdown",
   "id": "4acc0f20-d11b-4ed7-94a5-991399112e72",
   "metadata": {},
   "source": [
    "ダウンロードした PDF を読み込んで、全体を1つのテキストにまとめます。"
   ]
  },
  {
   "cell_type": "code",
   "execution_count": null,
   "id": "18d6ea81-f7e2-44c6-8bbf-456d2e874b72",
   "metadata": {
    "tags": []
   },
   "outputs": [],
   "source": [
    "from langchain_community.document_loaders import PyPDFLoader\n",
    "\n",
    "pages = PyPDFLoader('shoken-mikata.pdf').load()\n",
    "document = ''\n",
    "for page in pages:\n",
    "    document += page.page_content"
   ]
  },
  {
   "cell_type": "markdown",
   "id": "a6cfbcfd-01ba-433a-aea8-eff339803931",
   "metadata": {},
   "source": [
    "Gemini API を利用するクライアントオブジェクトを取得します。"
   ]
  },
  {
   "cell_type": "code",
   "execution_count": null,
   "id": "0cce396e-5b5f-4c47-960a-eab4e8d4a631",
   "metadata": {
    "tags": []
   },
   "outputs": [],
   "source": [
    "from langchain_google_vertexai import VertexAI\n",
    "llm = VertexAI(model_name='gemini-1.5-flash-001', location='asia-northeast1',\n",
    "               temperature=0.1, max_output_tokens=1024)"
   ]
  },
  {
   "cell_type": "markdown",
   "id": "56742592-eda6-4525-8d2b-eb19ea8aacca",
   "metadata": {},
   "source": [
    "RecursiveCharacterTextSplitter, load_qa_chain, AnalyzeDocumentChain モジュールの使用例です。\n",
    "\n",
    "`input_document` に与えたテキストに基づいて、`question` の質問に回答します。"
   ]
  },
  {
   "cell_type": "code",
   "execution_count": null,
   "id": "d04ef7b6-7556-458f-9f42-115d7b00dea3",
   "metadata": {
    "tags": []
   },
   "outputs": [],
   "source": [
    "from langchain.text_splitter import RecursiveCharacterTextSplitter\n",
    "from langchain.chains.question_answering import load_qa_chain\n",
    "from langchain.chains import AnalyzeDocumentChain\n",
    "\n",
    "text_splitter = RecursiveCharacterTextSplitter(\n",
    "    chunk_size=6000, chunk_overlap=200)\n",
    "qa_chain = load_qa_chain(llm, chain_type='map_reduce')\n",
    "qa_document_chain = AnalyzeDocumentChain(\n",
    "    combine_docs_chain=qa_chain, text_splitter=text_splitter)\n",
    "\n",
    "output = qa_document_chain.invoke(\n",
    "    {'input_document':'今は６月で雨が多い時期です。', 'question':'最近の天候は？'})\n",
    "print(output)"
   ]
  },
  {
   "cell_type": "markdown",
   "id": "a957ae75-420b-4d60-bf79-1eaf8a5b452e",
   "metadata": {},
   "source": [
    "`input_document` に与えたテキストの内容をまとめるように指示して結果を得る関数を用意します。"
   ]
  },
  {
   "cell_type": "code",
   "execution_count": null,
   "id": "de173cf8-1420-41dc-89c3-10f5847df26f",
   "metadata": {
    "tags": []
   },
   "outputs": [],
   "source": [
    "def get_description(document):\n",
    "    text_splitter = RecursiveCharacterTextSplitter(\n",
    "        chunk_size=6000, chunk_overlap=200)\n",
    "    qa_chain = load_qa_chain(llm, chain_type='map_reduce')\n",
    "    qa_document_chain = AnalyzeDocumentChain(\n",
    "        combine_docs_chain=qa_chain, text_splitter=text_splitter)\n",
    "\n",
    "    prompt = '何についての文書ですか？日本語で200字程度にまとめて教えてください。'\n",
    "    description = qa_document_chain.invoke(\n",
    "        {'input_document': document, 'question': prompt})\n",
    "    return description['output_text'].replace('FINAL ANSWER: ', '')"
   ]
  },
  {
   "cell_type": "markdown",
   "id": "47382292-1205-4132-aede-aebc40e31e7b",
   "metadata": {},
   "source": [
    "先に用意した PDF ファイルを適用します。"
   ]
  },
  {
   "cell_type": "code",
   "execution_count": null,
   "id": "8aa49cbf-eef9-42c6-bcf8-168818c89ff4",
   "metadata": {
    "tags": []
   },
   "outputs": [],
   "source": [
    "print(get_description(document))"
   ]
  },
  {
   "cell_type": "markdown",
   "id": "bd00f32a-e33b-4455-a6cf-071710b6d395",
   "metadata": {},
   "source": [
    "任意の質問に答える関数を用意します。"
   ]
  },
  {
   "cell_type": "code",
   "execution_count": null,
   "id": "0412c4fd-aa20-47cc-a699-128bdc8ac630",
   "metadata": {
    "tags": []
   },
   "outputs": [],
   "source": [
    "def get_answer(document, question):\n",
    "    text_splitter = RecursiveCharacterTextSplitter(\n",
    "        chunk_size=4000, chunk_overlap=200)\n",
    "    qa_chain = load_qa_chain(llm, chain_type='refine')\n",
    "    qa_document_chain = AnalyzeDocumentChain(\n",
    "        combine_docs_chain=qa_chain, text_splitter=text_splitter)\n",
    "\n",
    "    prompt = '{} 日本語で200字程度にまとめて教えてください。マークダウンを使用せずにプレーンテキストで出力。'.format(question)\n",
    "    answer = qa_document_chain.invoke(\n",
    "        {'input_document': document, 'question': prompt})\n",
    "    return answer['output_text']"
   ]
  },
  {
   "cell_type": "markdown",
   "id": "3cfc48c9-333b-4b9c-a166-026cb923a167",
   "metadata": {},
   "source": [
    "先に用意した PDF ファイルに基づいて、質問の回答を取得します。"
   ]
  },
  {
   "cell_type": "code",
   "execution_count": null,
   "id": "c57c8f5e-3101-4806-9555-cbac9adf99b9",
   "metadata": {
    "tags": []
   },
   "outputs": [],
   "source": [
    "question = '人間ドックの検査項目とその結果の見方についてのポイントを箇条書きにまとめてください。'\n",
    "print(get_answer(document, question))"
   ]
  },
  {
   "cell_type": "code",
   "execution_count": null,
   "id": "4618d67f-54d9-491c-9a9a-7bfacfcb74b1",
   "metadata": {
    "tags": []
   },
   "outputs": [],
   "source": [
    "question = '生活習慣病について教えてください。BMI値が30でした。元気が出る言葉を添えて励ましつつ、改善活動案を３つ示してください。'\n",
    "print(get_answer(document, question))"
   ]
  },
  {
   "cell_type": "code",
   "execution_count": null,
   "id": "c4ad8caf-e2b1-4a5d-9753-e00a7dfe331c",
   "metadata": {
    "tags": []
   },
   "outputs": [],
   "source": [
    "question = '糖尿病について教えてください。空腹時血糖が126でHbA1cが6.6%でした。元気が出る言葉を添えて励ましつつ、改善活動案を３つ示してください。'\n",
    "print(get_answer(document, question))"
   ]
  },
  {
   "cell_type": "code",
   "execution_count": null,
   "id": "e0a0f9b5-d8de-4f9b-b829-0aea79b88e45",
   "metadata": {
    "tags": []
   },
   "outputs": [],
   "source": [
    "question = '高脂血症リスクについて教えてください。LDL140でHDL34で中性脂肪が301でした。元気が出る言葉を添えて励ましつつ、改善活動案を３つ示してください。'\n",
    "print(get_answer(document, question))"
   ]
  },
  {
   "cell_type": "code",
   "execution_count": null,
   "id": "418f6824-1d99-4aee-9840-5d582a2787ad",
   "metadata": {
    "tags": []
   },
   "outputs": [],
   "source": [
    "question = '高血圧リスクについて教えてください。収縮期血圧が129で拡張期血圧が84でした。元気が出る言葉を添えて励ましつつ、改善活動案を３つ示してください。'\n",
    "print(get_answer(document, question))"
   ]
  },
  {
   "cell_type": "code",
   "execution_count": null,
   "id": "5c855c2c-17bb-4f3e-affd-6bbc3dcd54a6",
   "metadata": {
    "tags": []
   },
   "outputs": [],
   "source": [
    "question = '肝機能リスクについて教えてください。GOTが51でγGTPが102でした。元気が出る言葉を添えて励ましつつ、改善活動案を３つ示してください。'\n",
    "print(get_answer(document, question))"
   ]
  },
  {
   "cell_type": "code",
   "execution_count": null,
   "id": "bbfd5f99-afee-442c-9cd3-c5e4ea46445a",
   "metadata": {
    "tags": []
   },
   "outputs": [],
   "source": [
    "question = '''\\\n",
    "健康診断の結果\n",
    "\n",
    "BMI: 25\n",
    "腹囲: 85cm\n",
    "空腹時血糖: 100\n",
    "HbA1c: 5.6%\n",
    "LDL: 120\n",
    "HDL: 39\n",
    "中性脂肪: 150\n",
    "収縮期血圧: 130\n",
    "拡張期血圧: 85\n",
    "GOT: 31\n",
    "GPT: 31\n",
    "γGTP: 51\n",
    "\n",
    "でした。\n",
    "\n",
    "この結果から検査項目とその結果の見方についてのポイントを教えてください。\n",
    "\n",
    "保健指導を受けて、生活習慣を改善したいです。\n",
    "\n",
    "また、最近、疲れ目と、腰痛があります。\n",
    "\n",
    "胸部X線所見に異常ありと書かれてあります。\n",
    "\n",
    "元気が出る言葉を添えて励ましつつ、改善活動案を３つ示してください。\n",
    "'''\n",
    "\n",
    "print(get_answer(document, question))"
   ]
  }
 ],
 "metadata": {
  "environment": {
   "kernel": "conda-base-py",
   "name": "workbench-notebooks.m124",
   "type": "gcloud",
   "uri": "us-docker.pkg.dev/deeplearning-platform-release/gcr.io/workbench-notebooks:m124"
  },
  "kernelspec": {
   "display_name": "Python 3 (ipykernel) (Local)",
   "language": "python",
   "name": "conda-base-py"
  },
  "language_info": {
   "codemirror_mode": {
    "name": "ipython",
    "version": 3
   },
   "file_extension": ".py",
   "mimetype": "text/x-python",
   "name": "python",
   "nbconvert_exporter": "python",
   "pygments_lexer": "ipython3",
   "version": "3.10.14"
  }
 },
 "nbformat": 4,
 "nbformat_minor": 5
}
