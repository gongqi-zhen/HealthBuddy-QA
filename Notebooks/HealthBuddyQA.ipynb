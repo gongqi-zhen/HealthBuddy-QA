{
 "cells": [
  {
   "cell_type": "markdown",
   "id": "6842dd21-c69a-4696-aeb5-82d4415b955d",
   "metadata": {},
   "source": [
    "# LangChain, PostgreSQL, Gemini API でドキュメント QA を行う例"
   ]
  },
  {
   "cell_type": "markdown",
   "id": "efbfb671-ff4f-40a0-9fe8-0ebde5e3afef",
   "metadata": {},
   "source": [
    "以下のパッケージをインストールします。\n",
    "- LangChain 関係のパッケージ\n",
    "- PDF の扱いに必要なパッケージ\n",
    "- CloudSQL の PostgreSQL インスタンスにアクセスするためのパッケージ"
   ]
  },
  {
   "cell_type": "code",
   "execution_count": null,
   "id": "8307c5d9-458e-46a9-b32e-803015cd8f48",
   "metadata": {
    "tags": []
   },
   "outputs": [],
   "source": [
    "!pip install --user \\\n",
    "  langchain==0.1.0 transformers==4.36.0 \\\n",
    "  pypdf==3.17.0 cryptography==42.0.4 \\\n",
    "  pg8000==1.30.4 cloud-sql-python-connector[pg8000]==1.7.0 \\\n",
    "  langchain-google-vertexai==0.0.6 \\\n",
    "  google-cloud-aiplatform==1.42.1"
   ]
  },
  {
   "cell_type": "markdown",
   "id": "3ca61929-d451-4d8e-8c59-719d6970ceca",
   "metadata": {},
   "source": [
    "**注意：次のセルを実行する前にカーネルをリスタートしてください。**"
   ]
  },
  {
   "cell_type": "code",
   "execution_count": null,
   "id": "a415aceb-1c9f-4fa0-a7ba-23ead53c1cf9",
   "metadata": {
    "tags": []
   },
   "outputs": [],
   "source": [
    "import IPython\n",
    "app = IPython.Application.instance()\n",
    "_ = app.kernel.do_shutdown(True)"
   ]
  },
  {
   "cell_type": "markdown",
   "id": "2eb36d77-ce22-412a-ab85-8944fd010516",
   "metadata": {},
   "source": [
    "テキストエンベディング API を試してみます。1つのテキストから、768次元の埋め込みベクトルが得られます。"
   ]
  },
  {
   "cell_type": "code",
   "execution_count": null,
   "id": "cd20c20a-c009-4ce2-b254-a43c141845cc",
   "metadata": {
    "tags": []
   },
   "outputs": [],
   "source": [
    "from langchain_google_vertexai.embeddings import VertexAIEmbeddings\n",
    "embeddings = VertexAIEmbeddings(\n",
    "    model_name='textembedding-gecko-multilingual@001',\n",
    "    location='asia-northeast1')\n",
    "embedding_vectors = embeddings.embed_documents(['今日は快晴です。'])"
   ]
  },
  {
   "cell_type": "code",
   "execution_count": null,
   "id": "866a3772-2bda-4b5b-b652-32ae73e0417a",
   "metadata": {
    "tags": []
   },
   "outputs": [],
   "source": [
    "len(embedding_vectors), len(embedding_vectors[0])"
   ]
  },
  {
   "cell_type": "code",
   "execution_count": null,
   "id": "25bc40f9-75df-45f9-9b4f-f1d4b27d9bec",
   "metadata": {
    "tags": []
   },
   "outputs": [],
   "source": [
    "embedding_vectors[0][:5]"
   ]
  },
  {
   "cell_type": "markdown",
   "id": "52d99dfb-b7c5-4889-bed2-36b2ce10e22d",
   "metadata": {
    "tags": []
   },
   "source": [
    "日本人間ドック・予防医療学会 が一般公開している「[検査表の見方](https://www.ningen-dock.jp/public_method/)」をダウンロードします。"
   ]
  },
  {
   "cell_type": "code",
   "execution_count": null,
   "id": "589b561b-a315-4699-8012-4e2282980cb4",
   "metadata": {
    "tags": []
   },
   "outputs": [],
   "source": [
    "base_url = 'https://raw.githubusercontent.com/gongqi-zhen/HealthBuddy-QA/main'\n",
    "!wget -q $base_url/PDF/Japan_Society_of_Ningen_Dock_and_Preventive_Medical_Care/shoken-mikata.pdf"
   ]
  },
  {
   "cell_type": "markdown",
   "id": "0a9083f9-7354-4226-8bb8-12d3bc41753b",
   "metadata": {},
   "source": [
    "PDF ファイルの内容をページごとに分割して、それぞれのページの埋め込みベクトルを生成します。"
   ]
  },
  {
   "cell_type": "code",
   "execution_count": null,
   "id": "ffe08a39-6b82-4ba5-bfa8-057485bd6e53",
   "metadata": {
    "tags": []
   },
   "outputs": [],
   "source": [
    "from langchain_community.document_loaders import PyPDFLoader\n",
    "pages = PyPDFLoader('shoken-mikata.pdf').load()\n",
    "page_contents = [page.page_content for page in pages]\n",
    "embedding_vectors = embeddings.embed_documents(page_contents)"
   ]
  },
  {
   "cell_type": "code",
   "execution_count": null,
   "id": "84e2fcf9-7564-4430-ad1a-94bea71792f8",
   "metadata": {
    "tags": []
   },
   "outputs": [],
   "source": [
    "len(embedding_vectors), len(embedding_vectors[0])"
   ]
  },
  {
   "cell_type": "markdown",
   "id": "f513bbb1-2340-4fd4-81a9-bd2b814ddfd3",
   "metadata": {},
   "source": [
    "PostgreSQL に接続するためのコネクションプールを用意します。"
   ]
  },
  {
   "cell_type": "code",
   "execution_count": null,
   "id": "174367e8-2793-49cd-b73a-4d07e107559b",
   "metadata": {
    "tags": []
   },
   "outputs": [],
   "source": [
    "import google.auth\n",
    "import sqlalchemy\n",
    "from google.cloud.sql.connector import Connector\n",
    "\n",
    "_, project_id = google.auth.default()\n",
    "region = 'asia-northeast1'\n",
    "instance_name = 'genai-app-db'\n",
    "INSTANCE_CONNECTION_NAME = '{}:{}:{}'.format(\n",
    "    project_id, region, instance_name)\n",
    "DB_USER = 'db-admin'\n",
    "DB_PASS = 'genai-db-admin'\n",
    "DB_NAME = 'docs_db'\n",
    "\n",
    "connector = Connector()\n",
    "\n",
    "def getconn():\n",
    "    return connector.connect(\n",
    "        INSTANCE_CONNECTION_NAME, 'pg8000',\n",
    "        user=DB_USER, password=DB_PASS, db=DB_NAME)\n",
    "\n",
    "pool = sqlalchemy.create_engine('postgresql+pg8000://', creator=getconn)"
   ]
  },
  {
   "cell_type": "markdown",
   "id": "f5e4893c-e5e8-433e-8092-25f6d71f42be",
   "metadata": {},
   "source": [
    "埋め込みベクトルをデータベースから削除、および、データベースに保存する関数を定義します。"
   ]
  },
  {
   "cell_type": "code",
   "execution_count": null,
   "id": "1ca5fc21-d2a4-4416-8191-3fb7d04d14c9",
   "metadata": {
    "tags": []
   },
   "outputs": [],
   "source": [
    "def delete_doc(docid):\n",
    "    with pool.connect() as db_conn:\n",
    "        delete_stmt = sqlalchemy.text(\n",
    "            'DELETE FROM docs_embeddings WHERE docid=:docid;'\n",
    "        )\n",
    "        parameters = {'docid': docid}\n",
    "        db_conn.execute(delete_stmt, parameters=parameters)\n",
    "        db_conn.commit()\n",
    "\n",
    "def insert_doc(docid, uid, filename, page, content, embedding_vector):\n",
    "    with pool.connect() as db_conn:\n",
    "        insert_stmt = sqlalchemy.text(\n",
    "            'INSERT INTO docs_embeddings \\\n",
    "             (docid, uid, filename, page, content, embedding) \\\n",
    "             VALUES (:docid, :uid, :filename, :page, :content, :embedding);'\n",
    "        )\n",
    "        parameters = {\n",
    "            'docid': docid,\n",
    "            'uid': uid,\n",
    "            'filename': filename,\n",
    "            'page': page,\n",
    "            'content': content,\n",
    "            'embedding': embedding_vector\n",
    "        }\n",
    "        db_conn.execute(insert_stmt, parameters=parameters)\n",
    "        db_conn.commit()"
   ]
  },
  {
   "cell_type": "markdown",
   "id": "7b597be2-6a47-4daa-b282-49dffdae6f14",
   "metadata": {},
   "source": [
    "先ほどのドキュメントの各ページの埋め込みベクトルをデータベースに保存します。"
   ]
  },
  {
   "cell_type": "code",
   "execution_count": null,
   "id": "f5065064-b80c-4a37-a224-2942f10dcc57",
   "metadata": {
    "tags": []
   },
   "outputs": [],
   "source": [
    "docid = 'dummy_id'\n",
    "uid = 'dummy_uid'\n",
    "filename = 'shoken-mikata.pdf'\n",
    "\n",
    "delete_doc(docid)        \n",
    "for c, embedding_vector in enumerate(embedding_vectors):\n",
    "    page = c+1\n",
    "    insert_doc(docid, uid, filename, page,\n",
    "               page_contents[c], str(embedding_vector))"
   ]
  },
  {
   "cell_type": "markdown",
   "id": "b174fb41-bc4d-4452-963c-0424489ed2b9",
   "metadata": {},
   "source": [
    "質問文から埋め込みベクトルを生成して、関連性の高いページ（埋め込みベクトルの値が近い）のトップ3を取得します。"
   ]
  },
  {
   "cell_type": "code",
   "execution_count": null,
   "id": "48461e4b-b8d8-4654-9165-2b3de4ac4ffd",
   "metadata": {
    "tags": []
   },
   "outputs": [],
   "source": [
    "question = '血圧値は何を判断する値なのでしょうか。注意するべき値はどのようなものですか？'\n",
    "question_embedding = embeddings.embed_query(question)\n",
    "\n",
    "with pool.connect() as db_conn:\n",
    "    search_stmt = sqlalchemy.text(\n",
    "        'SELECT filename, page, content, \\\n",
    "                1 - (embedding <=> :question) AS similarity \\\n",
    "         FROM docs_embeddings \\\n",
    "         WHERE uid=:uid \\\n",
    "         ORDER BY similarity DESC LIMIT 3;'\n",
    "    )\n",
    "    parameters = {'uid': uid, 'question': str(question_embedding)}\n",
    "    results = db_conn.execute(search_stmt, parameters=parameters)\n",
    "\n",
    "text = ''\n",
    "source = []\n",
    "for filename, page, content, _ in results:\n",
    "    source.append({'filename': filename, 'page': page})\n",
    "    text += content + '\\n'"
   ]
  },
  {
   "cell_type": "code",
   "execution_count": null,
   "id": "fb4d732d-dffb-4ab2-83d4-9f5d8f788d17",
   "metadata": {
    "tags": []
   },
   "outputs": [],
   "source": [
    "source"
   ]
  },
  {
   "cell_type": "code",
   "execution_count": null,
   "id": "2f0ddb1d-e7b8-46ae-bd5c-24dc5ee6bbb0",
   "metadata": {},
   "outputs": [],
   "source": [
    "関連性の高さが一定のしきい値以上の情報だけを使う工夫をしてみる(P.180)\n",
    "\n",
    "https://mathlandscape.com/cos-similar/\n",
    "\n",
    "Geminiに聞いた\n",
    "コサイン類似度は、0から1までの値で、1に近いほど類似度が高いことを示します。閾値の設定は、データセットやタスクによって異なりますが、一般的な目安として以下のような解釈ができます。\n",
    "\n",
    "閾値の範囲と解釈\n",
    "\n",
    "0.4 - 0.6:\n",
    "\n",
    "比較的低い類似度。\n",
    "関連性はあるかもしれないが、明確な類似とは言えない。\n",
    "例：複数の文書の中から、キーワードが少し一致する程度。\n",
    "多くの場合、この範囲の類似度はノイズとみなされることもあります。\n",
    "0.6 - 0.8:\n",
    "\n",
    "中程度の類似度。\n",
    "意味的に類似している可能性が高い。\n",
    "例：文章のテーマが同じ、または部分的に内容が重複している。\n",
    "多くのタスクにおいて、この範囲の類似度が適切な閾値となります。\n",
    "0.8 - 1.0:\n",
    "\n",
    "高い類似度。\n",
    "非常に類似していると言える。\n",
    "例：同じ文章、または内容がほぼ同一の文章。\n",
    "例えば、文章の重複チェックや剽窃検出など、高い精度が求められるタスクに適しています。\n"
   ]
  },
  {
   "cell_type": "code",
   "execution_count": 17,
   "id": "2f7577c3-2575-4ed8-97eb-c28288ff3bf4",
   "metadata": {
    "tags": []
   },
   "outputs": [],
   "source": [
    "question = '血圧値は何を判断する値なのでしょうか。注意するべき値はどのようなものですか？'\n",
    "question_embedding = embeddings.embed_query(question)\n",
    "\n",
    "with pool.connect() as db_conn:\n",
    "    search_stmt = sqlalchemy.text(\n",
    "        'SELECT filename, page, content, similarity \\\n",
    "        FROM ( \\\n",
    "            SELECT filename, page, content, \\\n",
    "                1 - (embedding <=> :question) AS similarity \\\n",
    "             FROM docs_embeddings \\\n",
    "             WHERE uid=:uid \\\n",
    "         ) AS subquery \\\n",
    "         WHERE similarity > 0.65 \\\n",
    "         ORDER BY similarity DESC LIMIT 5;'\n",
    "    )\n",
    "    parameters = {'uid': uid, 'question': str(question_embedding)}\n",
    "    results = db_conn.execute(search_stmt, parameters=parameters)\n",
    "\n",
    "text = ''\n",
    "source = []\n",
    "for filename, page, content, similarity in results:\n",
    "    source.append({'filename': filename, 'page': page, 'similarity': similarity})\n",
    "    text += content + '\\n'"
   ]
  },
  {
   "cell_type": "code",
   "execution_count": 18,
   "id": "9d0071ed-2c5a-4f5d-8414-01a396ae469f",
   "metadata": {
    "tags": []
   },
   "outputs": [
    {
     "data": {
      "text/plain": [
       "[{'filename': 'shoken-mikata.pdf',\n",
       "  'page': 1,\n",
       "  'similarity': 0.8093929406968308},\n",
       " {'filename': 'shoken-mikata.pdf',\n",
       "  'page': 2,\n",
       "  'similarity': 0.7654169229716816},\n",
       " {'filename': 'shoken-mikata.pdf',\n",
       "  'page': 5,\n",
       "  'similarity': 0.7541800043757546},\n",
       " {'filename': 'shoken-mikata.pdf',\n",
       "  'page': 6,\n",
       "  'similarity': 0.7506619764577465},\n",
       " {'filename': 'shoken-mikata.pdf',\n",
       "  'page': 7,\n",
       "  'similarity': 0.7505759817097021}]"
      ]
     },
     "execution_count": 18,
     "metadata": {},
     "output_type": "execute_result"
    }
   ],
   "source": [
    "source"
   ]
  },
  {
   "cell_type": "markdown",
   "id": "a53a532c-6c19-4c30-a4ab-08361b194dfd",
   "metadata": {
    "tags": []
   },
   "source": [
    "得られたページのテキストに基づいて、質問の回答を生成します。"
   ]
  },
  {
   "cell_type": "code",
   "execution_count": 19,
   "id": "bcc2f809-91e5-4106-b164-46e769deca9c",
   "metadata": {
    "tags": []
   },
   "outputs": [
    {
     "name": "stdout",
     "output_type": "stream",
     "text": [
      "血圧値は心臓のポンプが正常に働いているか、また高血圧かを判断する値です。  収縮期血圧が130～159mmHg、拡張期血圧が85～99mmHgの場合、要注意です。  これらの値は将来、脳・心血管疾患発症しうる可能性を考慮した基準範囲です。 \n",
      "\n"
     ]
    }
   ],
   "source": [
    "from langchain_google_vertexai import VertexAI\n",
    "from langchain.text_splitter import RecursiveCharacterTextSplitter\n",
    "from langchain.chains.question_answering import load_qa_chain\n",
    "from langchain.chains import AnalyzeDocumentChain\n",
    "\n",
    "llm = VertexAI(model_name='gemini-1.5-flash-001', location='asia-northeast1',\n",
    "               temperature=0.1, max_output_tokens=256)\n",
    "text_splitter = RecursiveCharacterTextSplitter(\n",
    "    chunk_size=6000, chunk_overlap=200)\n",
    "qa_chain = load_qa_chain(llm, chain_type='refine')\n",
    "qa_document_chain = AnalyzeDocumentChain(\n",
    "    combine_docs_chain=qa_chain, text_splitter=text_splitter)\n",
    "\n",
    "prompt = '{} 日本語で3文程度にまとめて教えてください。'.format(question)\n",
    "answer = qa_document_chain.invoke({'input_document': text, 'question': prompt})\n",
    "print(answer['output_text'])"
   ]
  }
 ],
 "metadata": {
  "environment": {
   "kernel": "conda-base-py",
   "name": "workbench-notebooks.m124",
   "type": "gcloud",
   "uri": "us-docker.pkg.dev/deeplearning-platform-release/gcr.io/workbench-notebooks:m124"
  },
  "kernelspec": {
   "display_name": "Python 3 (ipykernel) (Local)",
   "language": "python",
   "name": "conda-base-py"
  },
  "language_info": {
   "codemirror_mode": {
    "name": "ipython",
    "version": 3
   },
   "file_extension": ".py",
   "mimetype": "text/x-python",
   "name": "python",
   "nbconvert_exporter": "python",
   "pygments_lexer": "ipython3",
   "version": "3.10.14"
  }
 },
 "nbformat": 4,
 "nbformat_minor": 5
}
